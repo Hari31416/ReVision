{
 "cells": [
  {
   "cell_type": "markdown",
   "id": "a0a127f5",
   "metadata": {
    "papermill": {
     "duration": 0.006541,
     "end_time": "2023-03-31T09:46:34.857341",
     "exception": false,
     "start_time": "2023-03-31T09:46:34.850800",
     "status": "completed"
    },
    "tags": []
   },
   "source": [
    "# Imports and Setup"
   ]
  },
  {
   "cell_type": "code",
   "execution_count": 3,
   "id": "81022f57",
   "metadata": {
    "execution": {
     "iopub.execute_input": "2023-03-31T09:46:40.874591Z",
     "iopub.status.busy": "2023-03-31T09:46:40.874268Z",
     "iopub.status.idle": "2023-03-31T09:46:49.392544Z",
     "shell.execute_reply": "2023-03-31T09:46:49.391382Z"
    },
    "papermill": {
     "duration": 8.528873,
     "end_time": "2023-03-31T09:46:49.395415",
     "exception": false,
     "start_time": "2023-03-31T09:46:40.866542",
     "status": "completed"
    },
    "tags": []
   },
   "outputs": [],
   "source": [
    "import tensorflow as tf\n",
    "import tensorflow_datasets as tfds\n",
    "import matplotlib.pyplot as plt\n",
    "\n",
    "plt.rcParams[\"image.cmap\"] = \"gray\"\n",
    "from autoencoder import *"
   ]
  },
  {
   "cell_type": "markdown",
   "id": "816f1b09",
   "metadata": {
    "papermill": {
     "duration": 0.006366,
     "end_time": "2023-03-31T09:46:49.408790",
     "exception": false,
     "start_time": "2023-03-31T09:46:49.402424",
     "status": "completed"
    },
    "tags": []
   },
   "source": [
    "# Dense Autoencoder"
   ]
  },
  {
   "cell_type": "markdown",
   "id": "62381660",
   "metadata": {
    "papermill": {
     "duration": 0.006335,
     "end_time": "2023-03-31T09:46:49.421487",
     "exception": false,
     "start_time": "2023-03-31T09:46:49.415152",
     "status": "completed"
    },
    "tags": []
   },
   "source": [
    "## Creating the Autoencoder Model"
   ]
  },
  {
   "cell_type": "markdown",
   "id": "62a11cbb",
   "metadata": {
    "papermill": {
     "duration": 0.006191,
     "end_time": "2023-03-31T09:46:49.434035",
     "exception": false,
     "start_time": "2023-03-31T09:46:49.427844",
     "status": "completed"
    },
    "tags": []
   },
   "source": [
    "We will be using the MNIST digits dataset at first. The 28x28 image grid will be flatten and it will be fed to the model. The encoder will have two dense layers with 128 and 64 neurons. The encoding shape is 49 which can be realized by using 49 nueroned bottleneck. The deocder will then have 64 and 128 neurons and it will output in the same shape the the input to the model."
   ]
  },
  {
   "cell_type": "code",
   "execution_count": 3,
   "id": "3c991f95",
   "metadata": {
    "execution": {
     "iopub.execute_input": "2023-03-31T09:46:49.448746Z",
     "iopub.status.busy": "2023-03-31T09:46:49.448037Z",
     "iopub.status.idle": "2023-03-31T09:46:52.230937Z",
     "shell.execute_reply": "2023-03-31T09:46:52.229908Z"
    },
    "papermill": {
     "duration": 2.803891,
     "end_time": "2023-03-31T09:46:52.244571",
     "exception": false,
     "start_time": "2023-03-31T09:46:49.440680",
     "status": "completed"
    },
    "tags": []
   },
   "outputs": [
    {
     "name": "stdout",
     "output_type": "stream",
     "text": [
      "Model: \"Dense_Autoencoder\"\n",
      "_________________________________________________________________\n",
      " Layer (type)                Output Shape              Param #   \n",
      "=================================================================\n",
      " input (InputLayer)          [(None, 784)]             0         \n",
      "                                                                 \n",
      " encoder_dense_1 (Dense)     (None, 128)               100480    \n",
      "                                                                 \n",
      " encoder_dense_2 (Dense)     (None, 64)                8256      \n",
      "                                                                 \n",
      " bottleneck (Dense)          (None, 49)                3185      \n",
      "                                                                 \n",
      " decoder_dense_1 (Dense)     (None, 64)                3200      \n",
      "                                                                 \n",
      " decoder_dense_2 (Dense)     (None, 128)               8320      \n",
      "                                                                 \n",
      " decoder_output (Dense)      (None, 784)               101136    \n",
      "                                                                 \n",
      "=================================================================\n",
      "Total params: 224,577\n",
      "Trainable params: 224,577\n",
      "Non-trainable params: 0\n",
      "_________________________________________________________________\n"
     ]
    }
   ],
   "source": [
    "input_shape = 784\n",
    "encoding_shape = 49\n",
    "neurons = [128, 64]\n",
    "activation = \"relu\"\n",
    "ae = AutoEncoder(input_shape)\n",
    "ae.build(neurons = neurons, encoding_shape=encoding_shape)\n",
    "ae.summary()"
   ]
  },
  {
   "cell_type": "markdown",
   "id": "53dca409",
   "metadata": {
    "papermill": {
     "duration": 0.007672,
     "end_time": "2023-03-31T09:46:52.260791",
     "exception": false,
     "start_time": "2023-03-31T09:46:52.253119",
     "status": "completed"
    },
    "tags": []
   },
   "source": [
    "So, we have the model which we specified. Next, let's compile it. We'll use Adam optimizer and MSE error."
   ]
  },
  {
   "cell_type": "code",
   "execution_count": 4,
   "id": "bfaf729d",
   "metadata": {
    "execution": {
     "iopub.execute_input": "2023-03-31T09:46:52.277266Z",
     "iopub.status.busy": "2023-03-31T09:46:52.276941Z",
     "iopub.status.idle": "2023-03-31T09:46:52.293327Z",
     "shell.execute_reply": "2023-03-31T09:46:52.292422Z"
    },
    "papermill": {
     "duration": 0.027078,
     "end_time": "2023-03-31T09:46:52.295459",
     "exception": false,
     "start_time": "2023-03-31T09:46:52.268381",
     "status": "completed"
    },
    "tags": []
   },
   "outputs": [],
   "source": [
    "ae.compile(optimizer=\"adam\", loss=\"mse\")"
   ]
  },
  {
   "cell_type": "markdown",
   "id": "30931144",
   "metadata": {
    "papermill": {
     "duration": 0.007912,
     "end_time": "2023-03-31T09:46:52.311143",
     "exception": false,
     "start_time": "2023-03-31T09:46:52.303231",
     "status": "completed"
    },
    "tags": []
   },
   "source": [
    "## Dataset for the model"
   ]
  },
  {
   "cell_type": "markdown",
   "id": "52378fe2",
   "metadata": {
    "papermill": {
     "duration": 0.007558,
     "end_time": "2023-03-31T09:46:52.326432",
     "exception": false,
     "start_time": "2023-03-31T09:46:52.318874",
     "status": "completed"
    },
    "tags": []
   },
   "source": [
    "We are using the MNIST digits dataset. Let's load it:"
   ]
  },
  {
   "cell_type": "code",
   "execution_count": 5,
   "id": "c87bb97e",
   "metadata": {
    "execution": {
     "iopub.execute_input": "2023-03-31T09:46:52.343109Z",
     "iopub.status.busy": "2023-03-31T09:46:52.342830Z",
     "iopub.status.idle": "2023-03-31T09:47:04.873319Z",
     "shell.execute_reply": "2023-03-31T09:47:04.872077Z"
    },
    "papermill": {
     "duration": 12.541582,
     "end_time": "2023-03-31T09:47:04.875682",
     "exception": false,
     "start_time": "2023-03-31T09:46:52.334100",
     "status": "completed"
    },
    "tags": []
   },
   "outputs": [
    {
     "name": "stdout",
     "output_type": "stream",
     "text": [
      "Downloading and preparing dataset 11.06 MiB (download: 11.06 MiB, generated: 21.00 MiB, total: 32.06 MiB) to /root/tensorflow_datasets/mnist/3.0.1...\n"
     ]
    },
    {
     "data": {
      "application/vnd.jupyter.widget-view+json": {
       "model_id": "bb2eb536d2034763ac4b4751bc4fc87a",
       "version_major": 2,
       "version_minor": 0
      },
      "text/plain": [
       "Dl Completed...:   0%|          | 0/5 [00:00<?, ? file/s]"
      ]
     },
     "metadata": {},
     "output_type": "display_data"
    },
    {
     "name": "stdout",
     "output_type": "stream",
     "text": [
      "Dataset mnist downloaded and prepared to /root/tensorflow_datasets/mnist/3.0.1. Subsequent calls will reuse this data.\n",
      "\n",
      "************ Summary ************\n",
      "\n"
     ]
    },
    {
     "data": {
      "application/vnd.jupyter.widget-view+json": {
       "model_id": "eda4b7e2c4804f59ba210a9df5d22574",
       "version_major": 2,
       "version_minor": 0
      },
      "text/plain": [
       "  0%|          | 0/1875 [00:00<?, ?it/s]"
      ]
     },
     "metadata": {},
     "output_type": "display_data"
    },
    {
     "name": "stdout",
     "output_type": "stream",
     "text": [
      "Examples/sec (First included) 7050.39 ex/sec (total: 60032 ex, 8.51 sec)\n",
      "Examples/sec (First only) 7.24 ex/sec (total: 32 ex, 4.42 sec)\n",
      "Examples/sec (First excluded) 14645.55 ex/sec (total: 60000 ex, 4.10 sec)\n",
      "\n",
      "************ Summary ************\n",
      "\n"
     ]
    },
    {
     "data": {
      "application/vnd.jupyter.widget-view+json": {
       "model_id": "e4ee8517a291479db5e58009b320ad70",
       "version_major": 2,
       "version_minor": 0
      },
      "text/plain": [
       "  0%|          | 0/313 [00:00<?, ?it/s]"
      ]
     },
     "metadata": {},
     "output_type": "display_data"
    },
    {
     "name": "stdout",
     "output_type": "stream",
     "text": [
      "Examples/sec (First included) 6809.59 ex/sec (total: 10048 ex, 1.48 sec)\n",
      "Examples/sec (First only) 287.44 ex/sec (total: 32 ex, 0.11 sec)\n",
      "Examples/sec (First excluded) 7341.82 ex/sec (total: 10016 ex, 1.36 sec)\n"
     ]
    },
    {
     "data": {
      "text/html": [
       "<strong>BenchmarkResult:</strong><br/><div>\n",
       "<style scoped>\n",
       "    .dataframe tbody tr th:only-of-type {\n",
       "        vertical-align: middle;\n",
       "    }\n",
       "\n",
       "    .dataframe tbody tr th {\n",
       "        vertical-align: top;\n",
       "    }\n",
       "\n",
       "    .dataframe thead th {\n",
       "        text-align: right;\n",
       "    }\n",
       "</style>\n",
       "<table border=\"1\" class=\"dataframe\">\n",
       "  <thead>\n",
       "    <tr style=\"text-align: right;\">\n",
       "      <th></th>\n",
       "      <th>duration</th>\n",
       "      <th>num_examples</th>\n",
       "      <th>avg</th>\n",
       "    </tr>\n",
       "  </thead>\n",
       "  <tbody>\n",
       "    <tr>\n",
       "      <th>first+lasts</th>\n",
       "      <td>1.475566</td>\n",
       "      <td>10048</td>\n",
       "      <td>6809.592260</td>\n",
       "    </tr>\n",
       "    <tr>\n",
       "      <th>first</th>\n",
       "      <td>0.111327</td>\n",
       "      <td>32</td>\n",
       "      <td>287.441333</td>\n",
       "    </tr>\n",
       "    <tr>\n",
       "      <th>lasts</th>\n",
       "      <td>1.364239</td>\n",
       "      <td>10016</td>\n",
       "      <td>7341.824643</td>\n",
       "    </tr>\n",
       "  </tbody>\n",
       "</table>\n",
       "</div>"
      ],
      "text/plain": [
       "BenchmarkResult(stats=             duration  num_examples          avg\n",
       "first+lasts  1.475566         10048  6809.592260\n",
       "first        0.111327            32   287.441333\n",
       "lasts        1.364239         10016  7341.824643, raw_stats=                    duration\n",
       "start_time        290.509179\n",
       "first_batch_time  290.620506\n",
       "end_time          291.984745\n",
       "num_iter          313.000000)"
      ]
     },
     "execution_count": 5,
     "metadata": {},
     "output_type": "execute_result"
    }
   ],
   "source": [
    "X_train, X_test = tfds.load(\"mnist\", split=[\"train\", \"test\"], as_supervised=True)\n",
    "\n",
    "X_train = X_train.map(lambda x, y: x)\n",
    "X_train = X_train.map(lambda x: tf.cast(x, tf.float32))\n",
    "X_train = X_train.map(lambda x: (x / 255.0))\n",
    "X_train = X_train.map(lambda x: tf.reshape(x, (784,)))\n",
    "\n",
    "X_train = X_train.map(lambda x: (x, x))\n",
    "X_train = X_train.batch(32).shuffle(1000).prefetch(1)\n",
    "\n",
    "X_test = X_test.map(lambda x, y: x)\n",
    "X_test = X_test.map(lambda x: tf.cast(x, tf.float32))\n",
    "X_test = X_test.map(lambda x: (x / 255.0))\n",
    "X_test = X_test.map(lambda x: tf.reshape(x, (784,)))\n",
    "\n",
    "X_test = X_test.map(lambda x: (x, x))\n",
    "X_test = X_test.batch(32).prefetch(1)\n",
    "\n",
    "tfds.benchmark(X_train, batch_size=32)\n",
    "tfds.benchmark(X_test, batch_size=32)"
   ]
  },
  {
   "cell_type": "markdown",
   "id": "2d2ac989",
   "metadata": {
    "papermill": {
     "duration": 0.00862,
     "end_time": "2023-03-31T09:47:04.893677",
     "exception": false,
     "start_time": "2023-03-31T09:47:04.885057",
     "status": "completed"
    },
    "tags": []
   },
   "source": [
    "Note that we have done some preprocessing as well as batch the dataset. Also note that the input data to the model will be in form of `(X_train, X_train)` which is what we have done."
   ]
  },
  {
   "cell_type": "markdown",
   "id": "4b703fd3",
   "metadata": {
    "papermill": {
     "duration": 0.008192,
     "end_time": "2023-03-31T09:47:04.910100",
     "exception": false,
     "start_time": "2023-03-31T09:47:04.901908",
     "status": "completed"
    },
    "tags": []
   },
   "source": [
    "## Training Dense Autoencoder"
   ]
  },
  {
   "cell_type": "markdown",
   "id": "9df27e1b",
   "metadata": {
    "papermill": {
     "duration": 0.008151,
     "end_time": "2023-03-31T09:47:04.926438",
     "exception": false,
     "start_time": "2023-03-31T09:47:04.918287",
     "status": "completed"
    },
    "tags": []
   },
   "source": [
    "We'll train the model:"
   ]
  },
  {
   "cell_type": "code",
   "execution_count": 6,
   "id": "767bd484",
   "metadata": {
    "execution": {
     "iopub.execute_input": "2023-03-31T09:47:04.944929Z",
     "iopub.status.busy": "2023-03-31T09:47:04.944312Z",
     "iopub.status.idle": "2023-03-31T09:49:44.827903Z",
     "shell.execute_reply": "2023-03-31T09:49:44.826776Z"
    },
    "papermill": {
     "duration": 159.895358,
     "end_time": "2023-03-31T09:49:44.830309",
     "exception": false,
     "start_time": "2023-03-31T09:47:04.934951",
     "status": "completed"
    },
    "tags": []
   },
   "outputs": [
    {
     "name": "stdout",
     "output_type": "stream",
     "text": [
      "Epoch 1/10\n",
      "1875/1875 [==============================] - 16s 5ms/step - loss: 0.0264 - val_loss: 0.0191\n",
      "Epoch 2/10\n",
      "1875/1875 [==============================] - 11s 5ms/step - loss: 0.0184 - val_loss: 0.0172\n",
      "Epoch 3/10\n",
      "1875/1875 [==============================] - 11s 5ms/step - loss: 0.0169 - val_loss: 0.0159\n",
      "Epoch 4/10\n",
      "1875/1875 [==============================] - 12s 5ms/step - loss: 0.0158 - val_loss: 0.0151\n",
      "Epoch 5/10\n",
      "1875/1875 [==============================] - 11s 5ms/step - loss: 0.0152 - val_loss: 0.0147\n",
      "Epoch 6/10\n",
      "1875/1875 [==============================] - 11s 5ms/step - loss: 0.0147 - val_loss: 0.0146\n",
      "Epoch 7/10\n",
      "1875/1875 [==============================] - 11s 5ms/step - loss: 0.0144 - val_loss: 0.0141\n",
      "Epoch 8/10\n",
      "1875/1875 [==============================] - 12s 5ms/step - loss: 0.0141 - val_loss: 0.0138\n",
      "Epoch 9/10\n",
      "1875/1875 [==============================] - 11s 5ms/step - loss: 0.0139 - val_loss: 0.0137\n",
      "Epoch 10/10\n",
      "1875/1875 [==============================] - 12s 5ms/step - loss: 0.0138 - val_loss: 0.0135\n"
     ]
    }
   ],
   "source": [
    "history = ae.fit(X_train, epochs=10, validation_data=X_test, verbose=1)"
   ]
  },
  {
   "cell_type": "markdown",
   "id": "7eef0421",
   "metadata": {
    "papermill": {
     "duration": 0.083629,
     "end_time": "2023-03-31T09:49:44.999141",
     "exception": false,
     "start_time": "2023-03-31T09:49:44.915512",
     "status": "completed"
    },
    "tags": []
   },
   "source": [
    "Let's see how well the model is performing by visualizing some images, their encoded version and decoded versions:"
   ]
  },
  {
   "cell_type": "code",
   "execution_count": 7,
   "id": "69ddd569",
   "metadata": {
    "execution": {
     "iopub.execute_input": "2023-03-31T09:49:45.168566Z",
     "iopub.status.busy": "2023-03-31T09:49:45.167560Z",
     "iopub.status.idle": "2023-03-31T09:49:47.526275Z",
     "shell.execute_reply": "2023-03-31T09:49:47.525154Z"
    },
    "papermill": {
     "duration": 2.446819,
     "end_time": "2023-03-31T09:49:47.529310",
     "exception": false,
     "start_time": "2023-03-31T09:49:45.082491",
     "status": "completed"
    },
    "tags": []
   },
   "outputs": [],
   "source": [
    "random_images = list(X_train.take(1))[0][0]"
   ]
  },
  {
   "cell_type": "code",
   "execution_count": 8,
   "id": "560418c4",
   "metadata": {
    "execution": {
     "iopub.execute_input": "2023-03-31T09:49:47.698647Z",
     "iopub.status.busy": "2023-03-31T09:49:47.698316Z",
     "iopub.status.idle": "2023-03-31T09:49:49.334744Z",
     "shell.execute_reply": "2023-03-31T09:49:49.333623Z"
    },
    "papermill": {
     "duration": 1.723362,
     "end_time": "2023-03-31T09:49:49.337163",
     "exception": false,
     "start_time": "2023-03-31T09:49:47.613801",
     "status": "completed"
    },
    "tags": []
   },
   "outputs": [
    {
     "data": {
      "image/png": "[encoded data removed]",
      "text/plain": [
       "<Figure size 2000x800 with 45 Axes>"
      ]
     },
     "metadata": {},
     "output_type": "display_data"
    }
   ],
   "source": [
    "res = ae.evaluate(random_images, (28, 28), (7,7), num_images = 15)"
   ]
  },
  {
   "cell_type": "markdown",
   "id": "0f83834f",
   "metadata": {
    "papermill": {
     "duration": 0.083769,
     "end_time": "2023-03-31T09:49:49.505792",
     "exception": false,
     "start_time": "2023-03-31T09:49:49.422023",
     "status": "completed"
    },
    "tags": []
   },
   "source": [
    "We can see that even an encoding of 7x7 is very good for decoding."
   ]
  },
  {
   "cell_type": "markdown",
   "id": "4fed830c",
   "metadata": {
    "papermill": {
     "duration": 0.08426,
     "end_time": "2023-03-31T09:49:49.674135",
     "exception": false,
     "start_time": "2023-03-31T09:49:49.589875",
     "status": "completed"
    },
    "tags": []
   },
   "source": [
    "Next, we'll use the convolutional encoder and will see how it performs."
   ]
  },
  {
   "cell_type": "markdown",
   "id": "c3a02743",
   "metadata": {
    "papermill": {
     "duration": 0.085878,
     "end_time": "2023-03-31T09:49:49.846615",
     "exception": false,
     "start_time": "2023-03-31T09:49:49.760737",
     "status": "completed"
    },
    "tags": []
   },
   "source": [
    "# Convolutional Autoencoder"
   ]
  },
  {
   "cell_type": "code",
   "execution_count": 9,
   "id": "7f179ea0",
   "metadata": {
    "execution": {
     "iopub.execute_input": "2023-03-31T09:49:50.020923Z",
     "iopub.status.busy": "2023-03-31T09:49:50.020539Z",
     "iopub.status.idle": "2023-03-31T09:49:50.253637Z",
     "shell.execute_reply": "2023-03-31T09:49:50.252773Z"
    },
    "papermill": {
     "duration": 0.355722,
     "end_time": "2023-03-31T09:49:50.288376",
     "exception": false,
     "start_time": "2023-03-31T09:49:49.932654",
     "status": "completed"
    },
    "tags": []
   },
   "outputs": [
    {
     "name": "stdout",
     "output_type": "stream",
     "text": [
      "Model: \"Conv_Autoencoder\"\n",
      "_________________________________________________________________\n",
      " Layer (type)                Output Shape              Param #   \n",
      "=================================================================\n",
      " input (InputLayer)          [(None, 28, 28, 1)]       0         \n",
      "                                                                 \n",
      " encoder_1_conv1 (Conv2D)    (None, 28, 28, 32)        320       \n",
      "                                                                 \n",
      " encoder_1_conv2 (Conv2D)    (None, 28, 28, 32)        9248      \n",
      "                                                                 \n",
      " encoder_1_pool (MaxPooling2  (None, 14, 14, 32)       0         \n",
      " D)                                                              \n",
      "                                                                 \n",
      " encoder_2_conv1 (Conv2D)    (None, 14, 14, 64)        18496     \n",
      "                                                                 \n",
      " encoder_2_conv2 (Conv2D)    (None, 14, 14, 64)        36928     \n",
      "                                                                 \n",
      " encoder_2_pool (MaxPooling2  (None, 7, 7, 64)         0         \n",
      " D)                                                              \n",
      "                                                                 \n",
      " bottleneck_1x1 (Conv2D)     (None, 7, 7, 1)           65        \n",
      "                                                                 \n",
      " decoder_1_upsample (UpSampl  (None, 14, 14, 1)        0         \n",
      " ing2D)                                                          \n",
      "                                                                 \n",
      " decoder_1_conv1T (Conv2DTra  (None, 14, 14, 64)       640       \n",
      " nspose)                                                         \n",
      "                                                                 \n",
      " decoder_1_conv2T (Conv2DTra  (None, 14, 14, 64)       36928     \n",
      " nspose)                                                         \n",
      "                                                                 \n",
      " decoder_2_upsample (UpSampl  (None, 28, 28, 64)       0         \n",
      " ing2D)                                                          \n",
      "                                                                 \n",
      " decoder_2_conv1T (Conv2DTra  (None, 28, 28, 32)       18464     \n",
      " nspose)                                                         \n",
      "                                                                 \n",
      " decoder_2_conv2T (Conv2DTra  (None, 28, 28, 32)       9248      \n",
      " nspose)                                                         \n",
      "                                                                 \n",
      " output (Conv2D)             (None, 28, 28, 1)         33        \n",
      "                                                                 \n",
      "=================================================================\n",
      "Total params: 130,370\n",
      "Trainable params: 130,370\n",
      "Non-trainable params: 0\n",
      "_________________________________________________________________\n"
     ]
    }
   ],
   "source": [
    "ae = AutoEncoder((28, 28, 1))\n",
    "filters = [32, 64]\n",
    "ae.build(filters=filters, kernels=3)\n",
    "ae.summary()"
   ]
  },
  {
   "cell_type": "code",
   "execution_count": 10,
   "id": "b8587b60",
   "metadata": {
    "execution": {
     "iopub.execute_input": "2023-03-31T09:49:50.466608Z",
     "iopub.status.busy": "2023-03-31T09:49:50.466264Z",
     "iopub.status.idle": "2023-03-31T09:49:50.477665Z",
     "shell.execute_reply": "2023-03-31T09:49:50.476721Z"
    },
    "papermill": {
     "duration": 0.103379,
     "end_time": "2023-03-31T09:49:50.479897",
     "exception": false,
     "start_time": "2023-03-31T09:49:50.376518",
     "status": "completed"
    },
    "tags": []
   },
   "outputs": [],
   "source": [
    "ae.compile(optimizer=\"adam\", loss = \"mse\")"
   ]
  },
  {
   "cell_type": "code",
   "execution_count": 11,
   "id": "710b3723",
   "metadata": {
    "execution": {
     "iopub.execute_input": "2023-03-31T09:49:50.707365Z",
     "iopub.status.busy": "2023-03-31T09:49:50.707001Z",
     "iopub.status.idle": "2023-03-31T09:50:01.680245Z",
     "shell.execute_reply": "2023-03-31T09:50:01.679038Z"
    },
    "papermill": {
     "duration": 11.116324,
     "end_time": "2023-03-31T09:50:01.682452",
     "exception": false,
     "start_time": "2023-03-31T09:49:50.566128",
     "status": "completed"
    },
    "tags": []
   },
   "outputs": [
    {
     "name": "stdout",
     "output_type": "stream",
     "text": [
      "\n",
      "************ Summary ************\n",
      "\n"
     ]
    },
    {
     "data": {
      "application/vnd.jupyter.widget-view+json": {
       "model_id": "c984e46ead3c4b02a278ada7f208d167",
       "version_major": 2,
       "version_minor": 0
      },
      "text/plain": [
       "  0%|          | 0/1875 [00:00<?, ?it/s]"
      ]
     },
     "metadata": {},
     "output_type": "display_data"
    },
    {
     "name": "stdout",
     "output_type": "stream",
     "text": [
      "Examples/sec (First included) 7391.57 ex/sec (total: 60032 ex, 8.12 sec)\n",
      "Examples/sec (First only) 7.42 ex/sec (total: 32 ex, 4.31 sec)\n",
      "Examples/sec (First excluded) 15750.13 ex/sec (total: 60000 ex, 3.81 sec)\n",
      "\n",
      "************ Summary ************\n",
      "\n"
     ]
    },
    {
     "data": {
      "application/vnd.jupyter.widget-view+json": {
       "model_id": "6f6046a2c76e4e17a670c8b0432740e9",
       "version_major": 2,
       "version_minor": 0
      },
      "text/plain": [
       "  0%|          | 0/313 [00:00<?, ?it/s]"
      ]
     },
     "metadata": {},
     "output_type": "display_data"
    },
    {
     "name": "stdout",
     "output_type": "stream",
     "text": [
      "Examples/sec (First included) 7416.68 ex/sec (total: 10048 ex, 1.35 sec)\n",
      "Examples/sec (First only) 389.80 ex/sec (total: 32 ex, 0.08 sec)\n",
      "Examples/sec (First excluded) 7869.94 ex/sec (total: 10016 ex, 1.27 sec)\n"
     ]
    },
    {
     "data": {
      "text/html": [
       "<strong>BenchmarkResult:</strong><br/><div>\n",
       "<style scoped>\n",
       "    .dataframe tbody tr th:only-of-type {\n",
       "        vertical-align: middle;\n",
       "    }\n",
       "\n",
       "    .dataframe tbody tr th {\n",
       "        vertical-align: top;\n",
       "    }\n",
       "\n",
       "    .dataframe thead th {\n",
       "        text-align: right;\n",
       "    }\n",
       "</style>\n",
       "<table border=\"1\" class=\"dataframe\">\n",
       "  <thead>\n",
       "    <tr style=\"text-align: right;\">\n",
       "      <th></th>\n",
       "      <th>duration</th>\n",
       "      <th>num_examples</th>\n",
       "      <th>avg</th>\n",
       "    </tr>\n",
       "  </thead>\n",
       "  <tbody>\n",
       "    <tr>\n",
       "      <th>first+lasts</th>\n",
       "      <td>1.354784</td>\n",
       "      <td>10048</td>\n",
       "      <td>7416.681228</td>\n",
       "    </tr>\n",
       "    <tr>\n",
       "      <th>first</th>\n",
       "      <td>0.082093</td>\n",
       "      <td>32</td>\n",
       "      <td>389.802370</td>\n",
       "    </tr>\n",
       "    <tr>\n",
       "      <th>lasts</th>\n",
       "      <td>1.272691</td>\n",
       "      <td>10016</td>\n",
       "      <td>7869.938734</td>\n",
       "    </tr>\n",
       "  </tbody>\n",
       "</table>\n",
       "</div>"
      ],
      "text/plain": [
       "BenchmarkResult(stats=             duration  num_examples          avg\n",
       "first+lasts  1.354784         10048  7416.681228\n",
       "first        0.082093            32   389.802370\n",
       "lasts        1.272691         10016  7869.938734, raw_stats=                    duration\n",
       "start_time        467.342485\n",
       "first_batch_time  467.424578\n",
       "end_time          468.697269\n",
       "num_iter          313.000000)"
      ]
     },
     "execution_count": 11,
     "metadata": {},
     "output_type": "execute_result"
    }
   ],
   "source": [
    "X_train, X_test = tfds.load(\"mnist\", split=[\"train\", \"test\"], as_supervised=True)\n",
    "\n",
    "X_train = X_train.map(lambda x, y: x)\n",
    "X_train = X_train.map(lambda x: tf.cast(x, tf.float32))\n",
    "X_train = X_train.map(lambda x: (x / 255.0))\n",
    "X_train = X_train.map(lambda x: tf.reshape(x, (28,28,1)))\n",
    "\n",
    "X_train = X_train.map(lambda x: (x, x))\n",
    "X_train = X_train.batch(32).shuffle(1000).prefetch(1)\n",
    "\n",
    "X_test = X_test.map(lambda x, y: x)\n",
    "X_test = X_test.map(lambda x: tf.cast(x, tf.float32))\n",
    "X_test = X_test.map(lambda x: (x / 255.0))\n",
    "X_test = X_test.map(lambda x: tf.reshape(x, (28,28,1)))\n",
    "\n",
    "X_test = X_test.map(lambda x: (x, x))\n",
    "X_test = X_test.batch(32).prefetch(1)\n",
    "\n",
    "tfds.benchmark(X_train, batch_size=32)\n",
    "tfds.benchmark(X_test, batch_size=32)\n"
   ]
  },
  {
   "cell_type": "code",
   "execution_count": 12,
   "id": "7066091a",
   "metadata": {
    "execution": {
     "iopub.execute_input": "2023-03-31T09:50:01.862062Z",
     "iopub.status.busy": "2023-03-31T09:50:01.861738Z",
     "iopub.status.idle": "2023-03-31T09:53:14.536036Z",
     "shell.execute_reply": "2023-03-31T09:53:14.534951Z"
    },
    "papermill": {
     "duration": 192.765734,
     "end_time": "2023-03-31T09:53:14.538699",
     "exception": false,
     "start_time": "2023-03-31T09:50:01.772965",
     "status": "completed"
    },
    "tags": []
   },
   "outputs": [
    {
     "name": "stdout",
     "output_type": "stream",
     "text": [
      "Epoch 1/10\n",
      "1875/1875 [==============================] - 25s 8ms/step - loss: 0.0077 - val_loss: 0.0046\n",
      "Epoch 2/10\n",
      "1875/1875 [==============================] - 18s 8ms/step - loss: 0.0045 - val_loss: 0.0038\n",
      "Epoch 3/10\n",
      "1875/1875 [==============================] - 18s 8ms/step - loss: 0.0039 - val_loss: 0.0036\n",
      "Epoch 4/10\n",
      "1875/1875 [==============================] - 18s 8ms/step - loss: 0.0036 - val_loss: 0.0033\n",
      "Epoch 5/10\n",
      "1875/1875 [==============================] - 19s 9ms/step - loss: 0.0034 - val_loss: 0.0032\n",
      "Epoch 6/10\n",
      "1875/1875 [==============================] - 18s 8ms/step - loss: 0.0032 - val_loss: 0.0031\n",
      "Epoch 7/10\n",
      "1875/1875 [==============================] - 17s 8ms/step - loss: 0.0031 - val_loss: 0.0030\n",
      "Epoch 8/10\n",
      "1875/1875 [==============================] - 19s 8ms/step - loss: 0.0030 - val_loss: 0.0029\n",
      "Epoch 9/10\n",
      "1875/1875 [==============================] - 20s 9ms/step - loss: 0.0029 - val_loss: 0.0029\n",
      "Epoch 10/10\n",
      "1875/1875 [==============================] - 19s 9ms/step - loss: 0.0028 - val_loss: 0.0029\n"
     ]
    }
   ],
   "source": [
    "history = ae.fit(X_train, epochs=10, validation_data=X_test, verbose=1)"
   ]
  },
  {
   "cell_type": "code",
   "execution_count": 13,
   "id": "0ce0d7b2",
   "metadata": {
    "execution": {
     "iopub.execute_input": "2023-03-31T09:53:15.041083Z",
     "iopub.status.busy": "2023-03-31T09:53:15.040712Z",
     "iopub.status.idle": "2023-03-31T09:53:18.644234Z",
     "shell.execute_reply": "2023-03-31T09:53:18.643167Z"
    },
    "papermill": {
     "duration": 3.879154,
     "end_time": "2023-03-31T09:53:18.650123",
     "exception": false,
     "start_time": "2023-03-31T09:53:14.770969",
     "status": "completed"
    },
    "tags": []
   },
   "outputs": [
    {
     "data": {
      "image/png": "[encoded data removed]",
      "text/plain": [
       "<Figure size 2000x800 with 45 Axes>"
      ]
     },
     "metadata": {},
     "output_type": "display_data"
    }
   ],
   "source": [
    "random_images = list(X_train.take(1))[0][0]\n",
    "res = ae.evaluate(random_images, (28, 28), (7,7), num_images = 15)"
   ]
  },
  {
   "cell_type": "markdown",
   "id": "938aa4f6",
   "metadata": {
    "papermill": {
     "duration": 0.354078,
     "end_time": "2023-03-31T09:53:19.369491",
     "exception": false,
     "start_time": "2023-03-31T09:53:19.015413",
     "status": "completed"
    },
    "tags": []
   },
   "source": [
    "These are much better than the dense autoencoder!"
   ]
  }
 ],
 "metadata": {
  "kernelspec": {
   "display_name": "Python 3",
   "language": "python",
   "name": "python3"
  },
  "language_info": {
   "codemirror_mode": {
    "name": "ipython",
    "version": 3
   },
   "file_extension": ".py",
   "mimetype": "text/x-python",
   "name": "python",
   "nbconvert_exporter": "python",
   "pygments_lexer": "ipython3",
   "version": "3.9.15"
  },
  "papermill": {
   "default_parameters": {},
   "duration": 417.138944,
   "end_time": "2023-03-31T09:53:22.692543",
   "environment_variables": {},
   "exception": null,
   "input_path": "__notebook__.ipynb",
   "output_path": "__notebook__.ipynb",
   "parameters": {},
   "start_time": "2023-03-31T09:46:25.553599",
   "version": "2.4.0"
  },
  "widgets": {
   "application/vnd.jupyter.widget-state+json": {
    "state": {
     "00bf17c9e522451dbde79e368676161d": {
      "model_module": "@jupyter-widgets/controls",
      "model_module_version": "1.5.0",
      "model_name": "DescriptionStyleModel",
      "state": {
       "_model_module": "@jupyter-widgets/controls",
       "_model_module_version": "1.5.0",
       "_model_name": "DescriptionStyleModel",
       "_view_count": null,
       "_view_module": "@jupyter-widgets/base",
       "_view_module_version": "1.2.0",
       "_view_name": "StyleView",
       "description_width": ""
      }
     },
     "04042e4d4e9f49a3a689c9db4ccf364f": {
      "model_module": "@jupyter-widgets/controls",
      "model_module_version": "1.5.0",
      "model_name": "HTMLModel",
      "state": {
       "_dom_classes": [],
       "_model_module": "@jupyter-widgets/controls",
       "_model_module_version": "1.5.0",
       "_model_name": "HTMLModel",
       "_view_count": null,
       "_view_module": "@jupyter-widgets/controls",
       "_view_module_version": "1.5.0",
       "_view_name": "HTMLView",
       "description": "",
       "description_tooltip": null,
       "layout": "IPY_MODEL_967efcc661c44709a788b277d1c55edc",
       "placeholder": "​",
       "style": "IPY_MODEL_39796ad68e57490e99810eba5f58fb8d",
       "value": "100%"
      }
     },
     "06a39d323fff4baf9aab33a3bb90273d": {
      "model_module": "@jupyter-widgets/controls",
      "model_module_version": "1.5.0",
      "model_name": "FloatProgressModel",
      "state": {
       "_dom_classes": [],
       "_model_module": "@jupyter-widgets/controls",
       "_model_module_version": "1.5.0",
       "_model_name": "FloatProgressModel",
       "_view_count": null,
       "_view_module": "@jupyter-widgets/controls",
       "_view_module_version": "1.5.0",
       "_view_name": "ProgressView",
       "bar_style": "success",
       "description": "",
       "description_tooltip": null,
       "layout": "IPY_MODEL_c0582711d7e144e2a63a010b41ee2ef5",
       "max": 1875,
       "min": 0,
       "orientation": "horizontal",
       "style": "IPY_MODEL_ad2333dbc13647fea7848e1d416d8f0d",
       "value": 1875
      }
     },
     "0903e3ac255c4cd89bc07d6d793a4393": {
      "model_module": "@jupyter-widgets/base",
      "model_module_version": "1.2.0",
      "model_name": "LayoutModel",
      "state": {
       "_model_module": "@jupyter-widgets/base",
       "_model_module_version": "1.2.0",
       "_model_name": "LayoutModel",
       "_view_count": null,
       "_view_module": "@jupyter-widgets/base",
       "_view_module_version": "1.2.0",
       "_view_name": "LayoutView",
       "align_content": null,
       "align_items": null,
       "align_self": null,
       "border": null,
       "bottom": null,
       "display": null,
       "flex": null,
       "flex_flow": null,
       "grid_area": null,
       "grid_auto_columns": null,
       "grid_auto_flow": null,
       "grid_auto_rows": null,
       "grid_column": null,
       "grid_gap": null,
       "grid_row": null,
       "grid_template_areas": null,
       "grid_template_columns": null,
       "grid_template_rows": null,
       "height": null,
       "justify_content": null,
       "justify_items": null,
       "left": null,
       "margin": null,
       "max_height": null,
       "max_width": null,
       "min_height": null,
       "min_width": null,
       "object_fit": null,
       "object_position": null,
       "order": null,
       "overflow": null,
       "overflow_x": null,
       "overflow_y": null,
       "padding": null,
       "right": null,
       "top": null,
       "visibility": null,
       "width": null
      }
     },
     "0998ae1efa234b77915b195f59ca0d36": {
      "model_module": "@jupyter-widgets/base",
      "model_module_version": "1.2.0",
      "model_name": "LayoutModel",
      "state": {
       "_model_module": "@jupyter-widgets/base",
       "_model_module_version": "1.2.0",
       "_model_name": "LayoutModel",
       "_view_count": null,
       "_view_module": "@jupyter-widgets/base",
       "_view_module_version": "1.2.0",
       "_view_name": "LayoutView",
       "align_content": null,
       "align_items": null,
       "align_self": null,
       "border": null,
       "bottom": null,
       "display": null,
       "flex": null,
       "flex_flow": null,
       "grid_area": null,
       "grid_auto_columns": null,
       "grid_auto_flow": null,
       "grid_auto_rows": null,
       "grid_column": null,
       "grid_gap": null,
       "grid_row": null,
       "grid_template_areas": null,
       "grid_template_columns": null,
       "grid_template_rows": null,
       "height": null,
       "justify_content": null,
       "justify_items": null,
       "left": null,
       "margin": null,
       "max_height": null,
       "max_width": null,
       "min_height": null,
       "min_width": null,
       "object_fit": null,
       "object_position": null,
       "order": null,
       "overflow": null,
       "overflow_x": null,
       "overflow_y": null,
       "padding": null,
       "right": null,
       "top": null,
       "visibility": null,
       "width": null
      }
     },
     "1fcfe08a18f947d6838ae6622f2be787": {
      "model_module": "@jupyter-widgets/base",
      "model_module_version": "1.2.0",
      "model_name": "LayoutModel",
      "state": {
       "_model_module": "@jupyter-widgets/base",
       "_model_module_version": "1.2.0",
       "_model_name": "LayoutModel",
       "_view_count": null,
       "_view_module": "@jupyter-widgets/base",
       "_view_module_version": "1.2.0",
       "_view_name": "LayoutView",
       "align_content": null,
       "align_items": null,
       "align_self": null,
       "border": null,
       "bottom": null,
       "display": null,
       "flex": null,
       "flex_flow": null,
       "grid_area": null,
       "grid_auto_columns": null,
       "grid_auto_flow": null,
       "grid_auto_rows": null,
       "grid_column": null,
       "grid_gap": null,
       "grid_row": null,
       "grid_template_areas": null,
       "grid_template_columns": null,
       "grid_template_rows": null,
       "height": null,
       "justify_content": null,
       "justify_items": null,
       "left": null,
       "margin": null,
       "max_height": null,
       "max_width": null,
       "min_height": null,
       "min_width": null,
       "object_fit": null,
       "object_position": null,
       "order": null,
       "overflow": null,
       "overflow_x": null,
       "overflow_y": null,
       "padding": null,
       "right": null,
       "top": null,
       "visibility": null,
       "width": null
      }
     },
     "202e896ab0b8423fa863551c5c6a46c8": {
      "model_module": "@jupyter-widgets/controls",
      "model_module_version": "1.5.0",
      "model_name": "DescriptionStyleModel",
      "state": {
       "_model_module": "@jupyter-widgets/controls",
       "_model_module_version": "1.5.0",
       "_model_name": "DescriptionStyleModel",
       "_view_count": null,
       "_view_module": "@jupyter-widgets/base",
       "_view_module_version": "1.2.0",
       "_view_name": "StyleView",
       "description_width": ""
      }
     },
     "2270ac70e56e421f9fa182c354138c5d": {
      "model_module": "@jupyter-widgets/controls",
      "model_module_version": "1.5.0",
      "model_name": "DescriptionStyleModel",
      "state": {
       "_model_module": "@jupyter-widgets/controls",
       "_model_module_version": "1.5.0",
       "_model_name": "DescriptionStyleModel",
       "_view_count": null,
       "_view_module": "@jupyter-widgets/base",
       "_view_module_version": "1.2.0",
       "_view_name": "StyleView",
       "description_width": ""
      }
     },
     "25ebcd31dc1f43a2ba65fb0a727a1de1": {
      "model_module": "@jupyter-widgets/controls",
      "model_module_version": "1.5.0",
      "model_name": "FloatProgressModel",
      "state": {
       "_dom_classes": [],
       "_model_module": "@jupyter-widgets/controls",
       "_model_module_version": "1.5.0",
       "_model_name": "FloatProgressModel",
       "_view_count": null,
       "_view_module": "@jupyter-widgets/controls",
       "_view_module_version": "1.5.0",
       "_view_name": "ProgressView",
       "bar_style": "success",
       "description": "",
       "description_tooltip": null,
       "layout": "IPY_MODEL_6a7e97d1b402490488faabb66035e44f",
       "max": 313,
       "min": 0,
       "orientation": "horizontal",
       "style": "IPY_MODEL_bbd9f6cad6c54869ad4c6f8f1e6553a0",
       "value": 313
      }
     },
     "284f734f033d46afae9270861d7cd0de": {
      "model_module": "@jupyter-widgets/controls",
      "model_module_version": "1.5.0",
      "model_name": "HTMLModel",
      "state": {
       "_dom_classes": [],
       "_model_module": "@jupyter-widgets/controls",
       "_model_module_version": "1.5.0",
       "_model_name": "HTMLModel",
       "_view_count": null,
       "_view_module": "@jupyter-widgets/controls",
       "_view_module_version": "1.5.0",
       "_view_name": "HTMLView",
       "description": "",
       "description_tooltip": null,
       "layout": "IPY_MODEL_36621a403a9b4d8dad648735df5b2106",
       "placeholder": "​",
       "style": "IPY_MODEL_adc839b722fb47118a43fae9668b67f9",
       "value": " 313/313 [00:01&lt;00:00, 239.29it/s]"
      }
     },
     "2c6717892d78403995954c05d2c264db": {
      "model_module": "@jupyter-widgets/controls",
      "model_module_version": "1.5.0",
      "model_name": "HTMLModel",
      "state": {
       "_dom_classes": [],
       "_model_module": "@jupyter-widgets/controls",
       "_model_module_version": "1.5.0",
       "_model_name": "HTMLModel",
       "_view_count": null,
       "_view_module": "@jupyter-widgets/controls",
       "_view_module_version": "1.5.0",
       "_view_name": "HTMLView",
       "description": "",
       "description_tooltip": null,
       "layout": "IPY_MODEL_1fcfe08a18f947d6838ae6622f2be787",
       "placeholder": "​",
       "style": "IPY_MODEL_202e896ab0b8423fa863551c5c6a46c8",
       "value": "100%"
      }
     },
     "2d88fabb12a34c06af9047a2f699655c": {
      "model_module": "@jupyter-widgets/base",
      "model_module_version": "1.2.0",
      "model_name": "LayoutModel",
      "state": {
       "_model_module": "@jupyter-widgets/base",
       "_model_module_version": "1.2.0",
       "_model_name": "LayoutModel",
       "_view_count": null,
       "_view_module": "@jupyter-widgets/base",
       "_view_module_version": "1.2.0",
       "_view_name": "LayoutView",
       "align_content": null,
       "align_items": null,
       "align_self": null,
       "border": null,
       "bottom": null,
       "display": null,
       "flex": null,
       "flex_flow": null,
       "grid_area": null,
       "grid_auto_columns": null,
       "grid_auto_flow": null,
       "grid_auto_rows": null,
       "grid_column": null,
       "grid_gap": null,
       "grid_row": null,
       "grid_template_areas": null,
       "grid_template_columns": null,
       "grid_template_rows": null,
       "height": null,
       "justify_content": null,
       "justify_items": null,
       "left": null,
       "margin": null,
       "max_height": null,
       "max_width": null,
       "min_height": null,
       "min_width": null,
       "object_fit": null,
       "object_position": null,
       "order": null,
       "overflow": null,
       "overflow_x": null,
       "overflow_y": null,
       "padding": null,
       "right": null,
       "top": null,
       "visibility": null,
       "width": null
      }
     },
     "2eb85bfc192f4270b644c30659d9bccd": {
      "model_module": "@jupyter-widgets/controls",
      "model_module_version": "1.5.0",
      "model_name": "HTMLModel",
      "state": {
       "_dom_classes": [],
       "_model_module": "@jupyter-widgets/controls",
       "_model_module_version": "1.5.0",
       "_model_name": "HTMLModel",
       "_view_count": null,
       "_view_module": "@jupyter-widgets/controls",
       "_view_module_version": "1.5.0",
       "_view_name": "HTMLView",
       "description": "",
       "description_tooltip": null,
       "layout": "IPY_MODEL_7d28dd0853974862a8e7c1331c0a8e25",
       "placeholder": "​",
       "style": "IPY_MODEL_8be15b6a0fd9474ab8a63aae00a4669c",
       "value": " 5/5 [00:00&lt;00:00, 10.03 file/s]"
      }
     },
     "2eeddf1d013b43309058230e68bdc6dd": {
      "model_module": "@jupyter-widgets/base",
      "model_module_version": "1.2.0",
      "model_name": "LayoutModel",
      "state": {
       "_model_module": "@jupyter-widgets/base",
       "_model_module_version": "1.2.0",
       "_model_name": "LayoutModel",
       "_view_count": null,
       "_view_module": "@jupyter-widgets/base",
       "_view_module_version": "1.2.0",
       "_view_name": "LayoutView",
       "align_content": null,
       "align_items": null,
       "align_self": null,
       "border": null,
       "bottom": null,
       "display": null,
       "flex": null,
       "flex_flow": null,
       "grid_area": null,
       "grid_auto_columns": null,
       "grid_auto_flow": null,
       "grid_auto_rows": null,
       "grid_column": null,
       "grid_gap": null,
       "grid_row": null,
       "grid_template_areas": null,
       "grid_template_columns": null,
       "grid_template_rows": null,
       "height": null,
       "justify_content": null,
       "justify_items": null,
       "left": null,
       "margin": null,
       "max_height": null,
       "max_width": null,
       "min_height": null,
       "min_width": null,
       "object_fit": null,
       "object_position": null,
       "order": null,
       "overflow": null,
       "overflow_x": null,
       "overflow_y": null,
       "padding": null,
       "right": null,
       "top": null,
       "visibility": null,
       "width": null
      }
     },
     "2f0c9f7f3ea64e35912bebdc542846f0": {
      "model_module": "@jupyter-widgets/controls",
      "model_module_version": "1.5.0",
      "model_name": "DescriptionStyleModel",
      "state": {
       "_model_module": "@jupyter-widgets/controls",
       "_model_module_version": "1.5.0",
       "_model_name": "DescriptionStyleModel",
       "_view_count": null,
       "_view_module": "@jupyter-widgets/base",
       "_view_module_version": "1.2.0",
       "_view_name": "StyleView",
       "description_width": ""
      }
     },
     "34327967a7634a68a28452aa714136d6": {
      "model_module": "@jupyter-widgets/controls",
      "model_module_version": "1.5.0",
      "model_name": "HTMLModel",
      "state": {
       "_dom_classes": [],
       "_model_module": "@jupyter-widgets/controls",
       "_model_module_version": "1.5.0",
       "_model_name": "HTMLModel",
       "_view_count": null,
       "_view_module": "@jupyter-widgets/controls",
       "_view_module_version": "1.5.0",
       "_view_name": "HTMLView",
       "description": "",
       "description_tooltip": null,
       "layout": "IPY_MODEL_461c7a4ba4c745d983b696010fa1b043",
       "placeholder": "​",
       "style": "IPY_MODEL_00bf17c9e522451dbde79e368676161d",
       "value": " 313/313 [00:01&lt;00:00, 239.46it/s]"
      }
     },
     "36621a403a9b4d8dad648735df5b2106": {
      "model_module": "@jupyter-widgets/base",
      "model_module_version": "1.2.0",
      "model_name": "LayoutModel",
      "state": {
       "_model_module": "@jupyter-widgets/base",
       "_model_module_version": "1.2.0",
       "_model_name": "LayoutModel",
       "_view_count": null,
       "_view_module": "@jupyter-widgets/base",
       "_view_module_version": "1.2.0",
       "_view_name": "LayoutView",
       "align_content": null,
       "align_items": null,
       "align_self": null,
       "border": null,
       "bottom": null,
       "display": null,
       "flex": null,
       "flex_flow": null,
       "grid_area": null,
       "grid_auto_columns": null,
       "grid_auto_flow": null,
       "grid_auto_rows": null,
       "grid_column": null,
       "grid_gap": null,
       "grid_row": null,
       "grid_template_areas": null,
       "grid_template_columns": null,
       "grid_template_rows": null,
       "height": null,
       "justify_content": null,
       "justify_items": null,
       "left": null,
       "margin": null,
       "max_height": null,
       "max_width": null,
       "min_height": null,
       "min_width": null,
       "object_fit": null,
       "object_position": null,
       "order": null,
       "overflow": null,
       "overflow_x": null,
       "overflow_y": null,
       "padding": null,
       "right": null,
       "top": null,
       "visibility": null,
       "width": null
      }
     },
     "39540d2c6d3a4917ade83dc5771b071e": {
      "model_module": "@jupyter-widgets/controls",
      "model_module_version": "1.5.0",
      "model_name": "ProgressStyleModel",
      "state": {
       "_model_module": "@jupyter-widgets/controls",
       "_model_module_version": "1.5.0",
       "_model_name": "ProgressStyleModel",
       "_view_count": null,
       "_view_module": "@jupyter-widgets/base",
       "_view_module_version": "1.2.0",
       "_view_name": "StyleView",
       "bar_color": null,
       "description_width": ""
      }
     },
     "39796ad68e57490e99810eba5f58fb8d": {
      "model_module": "@jupyter-widgets/controls",
      "model_module_version": "1.5.0",
      "model_name": "DescriptionStyleModel",
      "state": {
       "_model_module": "@jupyter-widgets/controls",
       "_model_module_version": "1.5.0",
       "_model_name": "DescriptionStyleModel",
       "_view_count": null,
       "_view_module": "@jupyter-widgets/base",
       "_view_module_version": "1.2.0",
       "_view_name": "StyleView",
       "description_width": ""
      }
     },
     "461c7a4ba4c745d983b696010fa1b043": {
      "model_module": "@jupyter-widgets/base",
      "model_module_version": "1.2.0",
      "model_name": "LayoutModel",
      "state": {
       "_model_module": "@jupyter-widgets/base",
       "_model_module_version": "1.2.0",
       "_model_name": "LayoutModel",
       "_view_count": null,
       "_view_module": "@jupyter-widgets/base",
       "_view_module_version": "1.2.0",
       "_view_name": "LayoutView",
       "align_content": null,
       "align_items": null,
       "align_self": null,
       "border": null,
       "bottom": null,
       "display": null,
       "flex": null,
       "flex_flow": null,
       "grid_area": null,
       "grid_auto_columns": null,
       "grid_auto_flow": null,
       "grid_auto_rows": null,
       "grid_column": null,
       "grid_gap": null,
       "grid_row": null,
       "grid_template_areas": null,
       "grid_template_columns": null,
       "grid_template_rows": null,
       "height": null,
       "justify_content": null,
       "justify_items": null,
       "left": null,
       "margin": null,
       "max_height": null,
       "max_width": null,
       "min_height": null,
       "min_width": null,
       "object_fit": null,
       "object_position": null,
       "order": null,
       "overflow": null,
       "overflow_x": null,
       "overflow_y": null,
       "padding": null,
       "right": null,
       "top": null,
       "visibility": null,
       "width": null
      }
     },
     "6a7e97d1b402490488faabb66035e44f": {
      "model_module": "@jupyter-widgets/base",
      "model_module_version": "1.2.0",
      "model_name": "LayoutModel",
      "state": {
       "_model_module": "@jupyter-widgets/base",
       "_model_module_version": "1.2.0",
       "_model_name": "LayoutModel",
       "_view_count": null,
       "_view_module": "@jupyter-widgets/base",
       "_view_module_version": "1.2.0",
       "_view_name": "LayoutView",
       "align_content": null,
       "align_items": null,
       "align_self": null,
       "border": null,
       "bottom": null,
       "display": null,
       "flex": null,
       "flex_flow": null,
       "grid_area": null,
       "grid_auto_columns": null,
       "grid_auto_flow": null,
       "grid_auto_rows": null,
       "grid_column": null,
       "grid_gap": null,
       "grid_row": null,
       "grid_template_areas": null,
       "grid_template_columns": null,
       "grid_template_rows": null,
       "height": null,
       "justify_content": null,
       "justify_items": null,
       "left": null,
       "margin": null,
       "max_height": null,
       "max_width": null,
       "min_height": null,
       "min_width": null,
       "object_fit": null,
       "object_position": null,
       "order": null,
       "overflow": null,
       "overflow_x": null,
       "overflow_y": null,
       "padding": null,
       "right": null,
       "top": null,
       "visibility": null,
       "width": null
      }
     },
     "6b7912cf1b0842909ba519775c11d19f": {
      "model_module": "@jupyter-widgets/controls",
      "model_module_version": "1.5.0",
      "model_name": "HTMLModel",
      "state": {
       "_dom_classes": [],
       "_model_module": "@jupyter-widgets/controls",
       "_model_module_version": "1.5.0",
       "_model_name": "HTMLModel",
       "_view_count": null,
       "_view_module": "@jupyter-widgets/controls",
       "_view_module_version": "1.5.0",
       "_view_name": "HTMLView",
       "description": "",
       "description_tooltip": null,
       "layout": "IPY_MODEL_70b4b2a770bf40b094660710b4cac767",
       "placeholder": "​",
       "style": "IPY_MODEL_2f0c9f7f3ea64e35912bebdc542846f0",
       "value": " 1875/1875 [00:08&lt;00:00, 1950.98it/s]"
      }
     },
     "6f6046a2c76e4e17a670c8b0432740e9": {
      "model_module": "@jupyter-widgets/controls",
      "model_module_version": "1.5.0",
      "model_name": "HBoxModel",
      "state": {
       "_dom_classes": [],
       "_model_module": "@jupyter-widgets/controls",
       "_model_module_version": "1.5.0",
       "_model_name": "HBoxModel",
       "_view_count": null,
       "_view_module": "@jupyter-widgets/controls",
       "_view_module_version": "1.5.0",
       "_view_name": "HBoxView",
       "box_style": "",
       "children": [
        "IPY_MODEL_7be644ad2f8349a793707cc6aa01c594",
        "IPY_MODEL_9f3eec3a977f435391bd34ae42e170fd",
        "IPY_MODEL_34327967a7634a68a28452aa714136d6"
       ],
       "layout": "IPY_MODEL_a00f701591624514a556b3a3628bbf7d"
      }
     },
     "70b4b2a770bf40b094660710b4cac767": {
      "model_module": "@jupyter-widgets/base",
      "model_module_version": "1.2.0",
      "model_name": "LayoutModel",
      "state": {
       "_model_module": "@jupyter-widgets/base",
       "_model_module_version": "1.2.0",
       "_model_name": "LayoutModel",
       "_view_count": null,
       "_view_module": "@jupyter-widgets/base",
       "_view_module_version": "1.2.0",
       "_view_name": "LayoutView",
       "align_content": null,
       "align_items": null,
       "align_self": null,
       "border": null,
       "bottom": null,
       "display": null,
       "flex": null,
       "flex_flow": null,
       "grid_area": null,
       "grid_auto_columns": null,
       "grid_auto_flow": null,
       "grid_auto_rows": null,
       "grid_column": null,
       "grid_gap": null,
       "grid_row": null,
       "grid_template_areas": null,
       "grid_template_columns": null,
       "grid_template_rows": null,
       "height": null,
       "justify_content": null,
       "justify_items": null,
       "left": null,
       "margin": null,
       "max_height": null,
       "max_width": null,
       "min_height": null,
       "min_width": null,
       "object_fit": null,
       "object_position": null,
       "order": null,
       "overflow": null,
       "overflow_x": null,
       "overflow_y": null,
       "padding": null,
       "right": null,
       "top": null,
       "visibility": null,
       "width": null
      }
     },
     "7be644ad2f8349a793707cc6aa01c594": {
      "model_module": "@jupyter-widgets/controls",
      "model_module_version": "1.5.0",
      "model_name": "HTMLModel",
      "state": {
       "_dom_classes": [],
       "_model_module": "@jupyter-widgets/controls",
       "_model_module_version": "1.5.0",
       "_model_name": "HTMLModel",
       "_view_count": null,
       "_view_module": "@jupyter-widgets/controls",
       "_view_module_version": "1.5.0",
       "_view_name": "HTMLView",
       "description": "",
       "description_tooltip": null,
       "layout": "IPY_MODEL_2d88fabb12a34c06af9047a2f699655c",
       "placeholder": "​",
       "style": "IPY_MODEL_c93c8f5d8da94e80bdf2dd9f37940b13",
       "value": "100%"
      }
     },
     "7d28dd0853974862a8e7c1331c0a8e25": {
      "model_module": "@jupyter-widgets/base",
      "model_module_version": "1.2.0",
      "model_name": "LayoutModel",
      "state": {
       "_model_module": "@jupyter-widgets/base",
       "_model_module_version": "1.2.0",
       "_model_name": "LayoutModel",
       "_view_count": null,
       "_view_module": "@jupyter-widgets/base",
       "_view_module_version": "1.2.0",
       "_view_name": "LayoutView",
       "align_content": null,
       "align_items": null,
       "align_self": null,
       "border": null,
       "bottom": null,
       "display": null,
       "flex": null,
       "flex_flow": null,
       "grid_area": null,
       "grid_auto_columns": null,
       "grid_auto_flow": null,
       "grid_auto_rows": null,
       "grid_column": null,
       "grid_gap": null,
       "grid_row": null,
       "grid_template_areas": null,
       "grid_template_columns": null,
       "grid_template_rows": null,
       "height": null,
       "justify_content": null,
       "justify_items": null,
       "left": null,
       "margin": null,
       "max_height": null,
       "max_width": null,
       "min_height": null,
       "min_width": null,
       "object_fit": null,
       "object_position": null,
       "order": null,
       "overflow": null,
       "overflow_x": null,
       "overflow_y": null,
       "padding": null,
       "right": null,
       "top": null,
       "visibility": null,
       "width": null
      }
     },
     "865f4231a4454221bc576a2d512c0511": {
      "model_module": "@jupyter-widgets/base",
      "model_module_version": "1.2.0",
      "model_name": "LayoutModel",
      "state": {
       "_model_module": "@jupyter-widgets/base",
       "_model_module_version": "1.2.0",
       "_model_name": "LayoutModel",
       "_view_count": null,
       "_view_module": "@jupyter-widgets/base",
       "_view_module_version": "1.2.0",
       "_view_name": "LayoutView",
       "align_content": null,
       "align_items": null,
       "align_self": null,
       "border": null,
       "bottom": null,
       "display": null,
       "flex": null,
       "flex_flow": null,
       "grid_area": null,
       "grid_auto_columns": null,
       "grid_auto_flow": null,
       "grid_auto_rows": null,
       "grid_column": null,
       "grid_gap": null,
       "grid_row": null,
       "grid_template_areas": null,
       "grid_template_columns": null,
       "grid_template_rows": null,
       "height": null,
       "justify_content": null,
       "justify_items": null,
       "left": null,
       "margin": null,
       "max_height": null,
       "max_width": null,
       "min_height": null,
       "min_width": null,
       "object_fit": null,
       "object_position": null,
       "order": null,
       "overflow": null,
       "overflow_x": null,
       "overflow_y": null,
       "padding": null,
       "right": null,
       "top": null,
       "visibility": null,
       "width": null
      }
     },
     "8be15b6a0fd9474ab8a63aae00a4669c": {
      "model_module": "@jupyter-widgets/controls",
      "model_module_version": "1.5.0",
      "model_name": "DescriptionStyleModel",
      "state": {
       "_model_module": "@jupyter-widgets/controls",
       "_model_module_version": "1.5.0",
       "_model_name": "DescriptionStyleModel",
       "_view_count": null,
       "_view_module": "@jupyter-widgets/base",
       "_view_module_version": "1.2.0",
       "_view_name": "StyleView",
       "description_width": ""
      }
     },
     "965f723d40b6481e8eb3b0c2bb130b88": {
      "model_module": "@jupyter-widgets/controls",
      "model_module_version": "1.5.0",
      "model_name": "ProgressStyleModel",
      "state": {
       "_model_module": "@jupyter-widgets/controls",
       "_model_module_version": "1.5.0",
       "_model_name": "ProgressStyleModel",
       "_view_count": null,
       "_view_module": "@jupyter-widgets/base",
       "_view_module_version": "1.2.0",
       "_view_name": "StyleView",
       "bar_color": null,
       "description_width": ""
      }
     },
     "967efcc661c44709a788b277d1c55edc": {
      "model_module": "@jupyter-widgets/base",
      "model_module_version": "1.2.0",
      "model_name": "LayoutModel",
      "state": {
       "_model_module": "@jupyter-widgets/base",
       "_model_module_version": "1.2.0",
       "_model_name": "LayoutModel",
       "_view_count": null,
       "_view_module": "@jupyter-widgets/base",
       "_view_module_version": "1.2.0",
       "_view_name": "LayoutView",
       "align_content": null,
       "align_items": null,
       "align_self": null,
       "border": null,
       "bottom": null,
       "display": null,
       "flex": null,
       "flex_flow": null,
       "grid_area": null,
       "grid_auto_columns": null,
       "grid_auto_flow": null,
       "grid_auto_rows": null,
       "grid_column": null,
       "grid_gap": null,
       "grid_row": null,
       "grid_template_areas": null,
       "grid_template_columns": null,
       "grid_template_rows": null,
       "height": null,
       "justify_content": null,
       "justify_items": null,
       "left": null,
       "margin": null,
       "max_height": null,
       "max_width": null,
       "min_height": null,
       "min_width": null,
       "object_fit": null,
       "object_position": null,
       "order": null,
       "overflow": null,
       "overflow_x": null,
       "overflow_y": null,
       "padding": null,
       "right": null,
       "top": null,
       "visibility": null,
       "width": null
      }
     },
     "9aac12cf2cc0484b8cadb555ce588c1a": {
      "model_module": "@jupyter-widgets/base",
      "model_module_version": "1.2.0",
      "model_name": "LayoutModel",
      "state": {
       "_model_module": "@jupyter-widgets/base",
       "_model_module_version": "1.2.0",
       "_model_name": "LayoutModel",
       "_view_count": null,
       "_view_module": "@jupyter-widgets/base",
       "_view_module_version": "1.2.0",
       "_view_name": "LayoutView",
       "align_content": null,
       "align_items": null,
       "align_self": null,
       "border": null,
       "bottom": null,
       "display": null,
       "flex": null,
       "flex_flow": null,
       "grid_area": null,
       "grid_auto_columns": null,
       "grid_auto_flow": null,
       "grid_auto_rows": null,
       "grid_column": null,
       "grid_gap": null,
       "grid_row": null,
       "grid_template_areas": null,
       "grid_template_columns": null,
       "grid_template_rows": null,
       "height": null,
       "justify_content": null,
       "justify_items": null,
       "left": null,
       "margin": null,
       "max_height": null,
       "max_width": null,
       "min_height": null,
       "min_width": null,
       "object_fit": null,
       "object_position": null,
       "order": null,
       "overflow": null,
       "overflow_x": null,
       "overflow_y": null,
       "padding": null,
       "right": null,
       "top": null,
       "visibility": null,
       "width": null
      }
     },
     "9eda03532ae149c49997d7e4046beedb": {
      "model_module": "@jupyter-widgets/controls",
      "model_module_version": "1.5.0",
      "model_name": "DescriptionStyleModel",
      "state": {
       "_model_module": "@jupyter-widgets/controls",
       "_model_module_version": "1.5.0",
       "_model_name": "DescriptionStyleModel",
       "_view_count": null,
       "_view_module": "@jupyter-widgets/base",
       "_view_module_version": "1.2.0",
       "_view_name": "StyleView",
       "description_width": ""
      }
     },
     "9f3eec3a977f435391bd34ae42e170fd": {
      "model_module": "@jupyter-widgets/controls",
      "model_module_version": "1.5.0",
      "model_name": "FloatProgressModel",
      "state": {
       "_dom_classes": [],
       "_model_module": "@jupyter-widgets/controls",
       "_model_module_version": "1.5.0",
       "_model_name": "FloatProgressModel",
       "_view_count": null,
       "_view_module": "@jupyter-widgets/controls",
       "_view_module_version": "1.5.0",
       "_view_name": "ProgressView",
       "bar_style": "success",
       "description": "",
       "description_tooltip": null,
       "layout": "IPY_MODEL_865f4231a4454221bc576a2d512c0511",
       "max": 313,
       "min": 0,
       "orientation": "horizontal",
       "style": "IPY_MODEL_a78f439ae3e74b6fa0d72246a2e7c7a5",
       "value": 313
      }
     },
     "9f7561f9e38d4d6a97cfa943a69aacf2": {
      "model_module": "@jupyter-widgets/base",
      "model_module_version": "1.2.0",
      "model_name": "LayoutModel",
      "state": {
       "_model_module": "@jupyter-widgets/base",
       "_model_module_version": "1.2.0",
       "_model_name": "LayoutModel",
       "_view_count": null,
       "_view_module": "@jupyter-widgets/base",
       "_view_module_version": "1.2.0",
       "_view_name": "LayoutView",
       "align_content": null,
       "align_items": null,
       "align_self": null,
       "border": null,
       "bottom": null,
       "display": null,
       "flex": null,
       "flex_flow": null,
       "grid_area": null,
       "grid_auto_columns": null,
       "grid_auto_flow": null,
       "grid_auto_rows": null,
       "grid_column": null,
       "grid_gap": null,
       "grid_row": null,
       "grid_template_areas": null,
       "grid_template_columns": null,
       "grid_template_rows": null,
       "height": null,
       "justify_content": null,
       "justify_items": null,
       "left": null,
       "margin": null,
       "max_height": null,
       "max_width": null,
       "min_height": null,
       "min_width": null,
       "object_fit": null,
       "object_position": null,
       "order": null,
       "overflow": null,
       "overflow_x": null,
       "overflow_y": null,
       "padding": null,
       "right": null,
       "top": null,
       "visibility": null,
       "width": null
      }
     },
     "a00f701591624514a556b3a3628bbf7d": {
      "model_module": "@jupyter-widgets/base",
      "model_module_version": "1.2.0",
      "model_name": "LayoutModel",
      "state": {
       "_model_module": "@jupyter-widgets/base",
       "_model_module_version": "1.2.0",
       "_model_name": "LayoutModel",
       "_view_count": null,
       "_view_module": "@jupyter-widgets/base",
       "_view_module_version": "1.2.0",
       "_view_name": "LayoutView",
       "align_content": null,
       "align_items": null,
       "align_self": null,
       "border": null,
       "bottom": null,
       "display": null,
       "flex": null,
       "flex_flow": null,
       "grid_area": null,
       "grid_auto_columns": null,
       "grid_auto_flow": null,
       "grid_auto_rows": null,
       "grid_column": null,
       "grid_gap": null,
       "grid_row": null,
       "grid_template_areas": null,
       "grid_template_columns": null,
       "grid_template_rows": null,
       "height": null,
       "justify_content": null,
       "justify_items": null,
       "left": null,
       "margin": null,
       "max_height": null,
       "max_width": null,
       "min_height": null,
       "min_width": null,
       "object_fit": null,
       "object_position": null,
       "order": null,
       "overflow": null,
       "overflow_x": null,
       "overflow_y": null,
       "padding": null,
       "right": null,
       "top": null,
       "visibility": null,
       "width": null
      }
     },
     "a30b5b8ea80741d7841acb85698d7be1": {
      "model_module": "@jupyter-widgets/base",
      "model_module_version": "1.2.0",
      "model_name": "LayoutModel",
      "state": {
       "_model_module": "@jupyter-widgets/base",
       "_model_module_version": "1.2.0",
       "_model_name": "LayoutModel",
       "_view_count": null,
       "_view_module": "@jupyter-widgets/base",
       "_view_module_version": "1.2.0",
       "_view_name": "LayoutView",
       "align_content": null,
       "align_items": null,
       "align_self": null,
       "border": null,
       "bottom": null,
       "display": null,
       "flex": null,
       "flex_flow": null,
       "grid_area": null,
       "grid_auto_columns": null,
       "grid_auto_flow": null,
       "grid_auto_rows": null,
       "grid_column": null,
       "grid_gap": null,
       "grid_row": null,
       "grid_template_areas": null,
       "grid_template_columns": null,
       "grid_template_rows": null,
       "height": null,
       "justify_content": null,
       "justify_items": null,
       "left": null,
       "margin": null,
       "max_height": null,
       "max_width": null,
       "min_height": null,
       "min_width": null,
       "object_fit": null,
       "object_position": null,
       "order": null,
       "overflow": null,
       "overflow_x": null,
       "overflow_y": null,
       "padding": null,
       "right": null,
       "top": null,
       "visibility": null,
       "width": null
      }
     },
     "a78f439ae3e74b6fa0d72246a2e7c7a5": {
      "model_module": "@jupyter-widgets/controls",
      "model_module_version": "1.5.0",
      "model_name": "ProgressStyleModel",
      "state": {
       "_model_module": "@jupyter-widgets/controls",
       "_model_module_version": "1.5.0",
       "_model_name": "ProgressStyleModel",
       "_view_count": null,
       "_view_module": "@jupyter-widgets/base",
       "_view_module_version": "1.2.0",
       "_view_name": "StyleView",
       "bar_color": null,
       "description_width": ""
      }
     },
     "a7acd0152aff4b6f9bd8172720733c3a": {
      "model_module": "@jupyter-widgets/controls",
      "model_module_version": "1.5.0",
      "model_name": "DescriptionStyleModel",
      "state": {
       "_model_module": "@jupyter-widgets/controls",
       "_model_module_version": "1.5.0",
       "_model_name": "DescriptionStyleModel",
       "_view_count": null,
       "_view_module": "@jupyter-widgets/base",
       "_view_module_version": "1.2.0",
       "_view_name": "StyleView",
       "description_width": ""
      }
     },
     "ad2333dbc13647fea7848e1d416d8f0d": {
      "model_module": "@jupyter-widgets/controls",
      "model_module_version": "1.5.0",
      "model_name": "ProgressStyleModel",
      "state": {
       "_model_module": "@jupyter-widgets/controls",
       "_model_module_version": "1.5.0",
       "_model_name": "ProgressStyleModel",
       "_view_count": null,
       "_view_module": "@jupyter-widgets/base",
       "_view_module_version": "1.2.0",
       "_view_name": "StyleView",
       "bar_color": null,
       "description_width": ""
      }
     },
     "adc839b722fb47118a43fae9668b67f9": {
      "model_module": "@jupyter-widgets/controls",
      "model_module_version": "1.5.0",
      "model_name": "DescriptionStyleModel",
      "state": {
       "_model_module": "@jupyter-widgets/controls",
       "_model_module_version": "1.5.0",
       "_model_name": "DescriptionStyleModel",
       "_view_count": null,
       "_view_module": "@jupyter-widgets/base",
       "_view_module_version": "1.2.0",
       "_view_name": "StyleView",
       "description_width": ""
      }
     },
     "b98b907fc7bf44d1bdb3fdaa85a56339": {
      "model_module": "@jupyter-widgets/controls",
      "model_module_version": "1.5.0",
      "model_name": "HTMLModel",
      "state": {
       "_dom_classes": [],
       "_model_module": "@jupyter-widgets/controls",
       "_model_module_version": "1.5.0",
       "_model_name": "HTMLModel",
       "_view_count": null,
       "_view_module": "@jupyter-widgets/controls",
       "_view_module_version": "1.5.0",
       "_view_name": "HTMLView",
       "description": "",
       "description_tooltip": null,
       "layout": "IPY_MODEL_0903e3ac255c4cd89bc07d6d793a4393",
       "placeholder": "​",
       "style": "IPY_MODEL_9eda03532ae149c49997d7e4046beedb",
       "value": "Dl Completed...: 100%"
      }
     },
     "ba7e4455d0c749f3abf95c6311ee0e6c": {
      "model_module": "@jupyter-widgets/controls",
      "model_module_version": "1.5.0",
      "model_name": "FloatProgressModel",
      "state": {
       "_dom_classes": [],
       "_model_module": "@jupyter-widgets/controls",
       "_model_module_version": "1.5.0",
       "_model_name": "FloatProgressModel",
       "_view_count": null,
       "_view_module": "@jupyter-widgets/controls",
       "_view_module_version": "1.5.0",
       "_view_name": "ProgressView",
       "bar_style": "success",
       "description": "",
       "description_tooltip": null,
       "layout": "IPY_MODEL_a30b5b8ea80741d7841acb85698d7be1",
       "max": 5,
       "min": 0,
       "orientation": "horizontal",
       "style": "IPY_MODEL_39540d2c6d3a4917ade83dc5771b071e",
       "value": 5
      }
     },
     "bb2eb536d2034763ac4b4751bc4fc87a": {
      "model_module": "@jupyter-widgets/controls",
      "model_module_version": "1.5.0",
      "model_name": "HBoxModel",
      "state": {
       "_dom_classes": [],
       "_model_module": "@jupyter-widgets/controls",
       "_model_module_version": "1.5.0",
       "_model_name": "HBoxModel",
       "_view_count": null,
       "_view_module": "@jupyter-widgets/controls",
       "_view_module_version": "1.5.0",
       "_view_name": "HBoxView",
       "box_style": "",
       "children": [
        "IPY_MODEL_b98b907fc7bf44d1bdb3fdaa85a56339",
        "IPY_MODEL_ba7e4455d0c749f3abf95c6311ee0e6c",
        "IPY_MODEL_2eb85bfc192f4270b644c30659d9bccd"
       ],
       "layout": "IPY_MODEL_c3c54c9e9f5e4ac8a48970da2effad48"
      }
     },
     "bbd9f6cad6c54869ad4c6f8f1e6553a0": {
      "model_module": "@jupyter-widgets/controls",
      "model_module_version": "1.5.0",
      "model_name": "ProgressStyleModel",
      "state": {
       "_model_module": "@jupyter-widgets/controls",
       "_model_module_version": "1.5.0",
       "_model_name": "ProgressStyleModel",
       "_view_count": null,
       "_view_module": "@jupyter-widgets/base",
       "_view_module_version": "1.2.0",
       "_view_name": "StyleView",
       "bar_color": null,
       "description_width": ""
      }
     },
     "c0582711d7e144e2a63a010b41ee2ef5": {
      "model_module": "@jupyter-widgets/base",
      "model_module_version": "1.2.0",
      "model_name": "LayoutModel",
      "state": {
       "_model_module": "@jupyter-widgets/base",
       "_model_module_version": "1.2.0",
       "_model_name": "LayoutModel",
       "_view_count": null,
       "_view_module": "@jupyter-widgets/base",
       "_view_module_version": "1.2.0",
       "_view_name": "LayoutView",
       "align_content": null,
       "align_items": null,
       "align_self": null,
       "border": null,
       "bottom": null,
       "display": null,
       "flex": null,
       "flex_flow": null,
       "grid_area": null,
       "grid_auto_columns": null,
       "grid_auto_flow": null,
       "grid_auto_rows": null,
       "grid_column": null,
       "grid_gap": null,
       "grid_row": null,
       "grid_template_areas": null,
       "grid_template_columns": null,
       "grid_template_rows": null,
       "height": null,
       "justify_content": null,
       "justify_items": null,
       "left": null,
       "margin": null,
       "max_height": null,
       "max_width": null,
       "min_height": null,
       "min_width": null,
       "object_fit": null,
       "object_position": null,
       "order": null,
       "overflow": null,
       "overflow_x": null,
       "overflow_y": null,
       "padding": null,
       "right": null,
       "top": null,
       "visibility": null,
       "width": null
      }
     },
     "c3c54c9e9f5e4ac8a48970da2effad48": {
      "model_module": "@jupyter-widgets/base",
      "model_module_version": "1.2.0",
      "model_name": "LayoutModel",
      "state": {
       "_model_module": "@jupyter-widgets/base",
       "_model_module_version": "1.2.0",
       "_model_name": "LayoutModel",
       "_view_count": null,
       "_view_module": "@jupyter-widgets/base",
       "_view_module_version": "1.2.0",
       "_view_name": "LayoutView",
       "align_content": null,
       "align_items": null,
       "align_self": null,
       "border": null,
       "bottom": null,
       "display": null,
       "flex": null,
       "flex_flow": null,
       "grid_area": null,
       "grid_auto_columns": null,
       "grid_auto_flow": null,
       "grid_auto_rows": null,
       "grid_column": null,
       "grid_gap": null,
       "grid_row": null,
       "grid_template_areas": null,
       "grid_template_columns": null,
       "grid_template_rows": null,
       "height": null,
       "justify_content": null,
       "justify_items": null,
       "left": null,
       "margin": null,
       "max_height": null,
       "max_width": null,
       "min_height": null,
       "min_width": null,
       "object_fit": null,
       "object_position": null,
       "order": null,
       "overflow": null,
       "overflow_x": null,
       "overflow_y": null,
       "padding": null,
       "right": null,
       "top": null,
       "visibility": null,
       "width": null
      }
     },
     "c68ef67a161e41a99179c7f4976091df": {
      "model_module": "@jupyter-widgets/base",
      "model_module_version": "1.2.0",
      "model_name": "LayoutModel",
      "state": {
       "_model_module": "@jupyter-widgets/base",
       "_model_module_version": "1.2.0",
       "_model_name": "LayoutModel",
       "_view_count": null,
       "_view_module": "@jupyter-widgets/base",
       "_view_module_version": "1.2.0",
       "_view_name": "LayoutView",
       "align_content": null,
       "align_items": null,
       "align_self": null,
       "border": null,
       "bottom": null,
       "display": null,
       "flex": null,
       "flex_flow": null,
       "grid_area": null,
       "grid_auto_columns": null,
       "grid_auto_flow": null,
       "grid_auto_rows": null,
       "grid_column": null,
       "grid_gap": null,
       "grid_row": null,
       "grid_template_areas": null,
       "grid_template_columns": null,
       "grid_template_rows": null,
       "height": null,
       "justify_content": null,
       "justify_items": null,
       "left": null,
       "margin": null,
       "max_height": null,
       "max_width": null,
       "min_height": null,
       "min_width": null,
       "object_fit": null,
       "object_position": null,
       "order": null,
       "overflow": null,
       "overflow_x": null,
       "overflow_y": null,
       "padding": null,
       "right": null,
       "top": null,
       "visibility": null,
       "width": null
      }
     },
     "c93c8f5d8da94e80bdf2dd9f37940b13": {
      "model_module": "@jupyter-widgets/controls",
      "model_module_version": "1.5.0",
      "model_name": "DescriptionStyleModel",
      "state": {
       "_model_module": "@jupyter-widgets/controls",
       "_model_module_version": "1.5.0",
       "_model_name": "DescriptionStyleModel",
       "_view_count": null,
       "_view_module": "@jupyter-widgets/base",
       "_view_module_version": "1.2.0",
       "_view_name": "StyleView",
       "description_width": ""
      }
     },
     "c984e46ead3c4b02a278ada7f208d167": {
      "model_module": "@jupyter-widgets/controls",
      "model_module_version": "1.5.0",
      "model_name": "HBoxModel",
      "state": {
       "_dom_classes": [],
       "_model_module": "@jupyter-widgets/controls",
       "_model_module_version": "1.5.0",
       "_model_name": "HBoxModel",
       "_view_count": null,
       "_view_module": "@jupyter-widgets/controls",
       "_view_module_version": "1.5.0",
       "_view_name": "HBoxView",
       "box_style": "",
       "children": [
        "IPY_MODEL_04042e4d4e9f49a3a689c9db4ccf364f",
        "IPY_MODEL_06a39d323fff4baf9aab33a3bb90273d",
        "IPY_MODEL_d10d2e7a556544958000aee20bb788d4"
       ],
       "layout": "IPY_MODEL_e73a907d3db948309ebc4d6c7679eb1f"
      }
     },
     "d10d2e7a556544958000aee20bb788d4": {
      "model_module": "@jupyter-widgets/controls",
      "model_module_version": "1.5.0",
      "model_name": "HTMLModel",
      "state": {
       "_dom_classes": [],
       "_model_module": "@jupyter-widgets/controls",
       "_model_module_version": "1.5.0",
       "_model_name": "HTMLModel",
       "_view_count": null,
       "_view_module": "@jupyter-widgets/controls",
       "_view_module_version": "1.5.0",
       "_view_name": "HTMLView",
       "description": "",
       "description_tooltip": null,
       "layout": "IPY_MODEL_0998ae1efa234b77915b195f59ca0d36",
       "placeholder": "​",
       "style": "IPY_MODEL_a7acd0152aff4b6f9bd8172720733c3a",
       "value": " 1875/1875 [00:08&lt;00:00, 2188.53it/s]"
      }
     },
     "e4ee8517a291479db5e58009b320ad70": {
      "model_module": "@jupyter-widgets/controls",
      "model_module_version": "1.5.0",
      "model_name": "HBoxModel",
      "state": {
       "_dom_classes": [],
       "_model_module": "@jupyter-widgets/controls",
       "_model_module_version": "1.5.0",
       "_model_name": "HBoxModel",
       "_view_count": null,
       "_view_module": "@jupyter-widgets/controls",
       "_view_module_version": "1.5.0",
       "_view_name": "HBoxView",
       "box_style": "",
       "children": [
        "IPY_MODEL_2c6717892d78403995954c05d2c264db",
        "IPY_MODEL_25ebcd31dc1f43a2ba65fb0a727a1de1",
        "IPY_MODEL_284f734f033d46afae9270861d7cd0de"
       ],
       "layout": "IPY_MODEL_c68ef67a161e41a99179c7f4976091df"
      }
     },
     "e73a907d3db948309ebc4d6c7679eb1f": {
      "model_module": "@jupyter-widgets/base",
      "model_module_version": "1.2.0",
      "model_name": "LayoutModel",
      "state": {
       "_model_module": "@jupyter-widgets/base",
       "_model_module_version": "1.2.0",
       "_model_name": "LayoutModel",
       "_view_count": null,
       "_view_module": "@jupyter-widgets/base",
       "_view_module_version": "1.2.0",
       "_view_name": "LayoutView",
       "align_content": null,
       "align_items": null,
       "align_self": null,
       "border": null,
       "bottom": null,
       "display": null,
       "flex": null,
       "flex_flow": null,
       "grid_area": null,
       "grid_auto_columns": null,
       "grid_auto_flow": null,
       "grid_auto_rows": null,
       "grid_column": null,
       "grid_gap": null,
       "grid_row": null,
       "grid_template_areas": null,
       "grid_template_columns": null,
       "grid_template_rows": null,
       "height": null,
       "justify_content": null,
       "justify_items": null,
       "left": null,
       "margin": null,
       "max_height": null,
       "max_width": null,
       "min_height": null,
       "min_width": null,
       "object_fit": null,
       "object_position": null,
       "order": null,
       "overflow": null,
       "overflow_x": null,
       "overflow_y": null,
       "padding": null,
       "right": null,
       "top": null,
       "visibility": null,
       "width": null
      }
     },
     "ebab8967464b48a596e9e854c332c5c7": {
      "model_module": "@jupyter-widgets/controls",
      "model_module_version": "1.5.0",
      "model_name": "HTMLModel",
      "state": {
       "_dom_classes": [],
       "_model_module": "@jupyter-widgets/controls",
       "_model_module_version": "1.5.0",
       "_model_name": "HTMLModel",
       "_view_count": null,
       "_view_module": "@jupyter-widgets/controls",
       "_view_module_version": "1.5.0",
       "_view_name": "HTMLView",
       "description": "",
       "description_tooltip": null,
       "layout": "IPY_MODEL_9f7561f9e38d4d6a97cfa943a69aacf2",
       "placeholder": "​",
       "style": "IPY_MODEL_2270ac70e56e421f9fa182c354138c5d",
       "value": "100%"
      }
     },
     "eda4b7e2c4804f59ba210a9df5d22574": {
      "model_module": "@jupyter-widgets/controls",
      "model_module_version": "1.5.0",
      "model_name": "HBoxModel",
      "state": {
       "_dom_classes": [],
       "_model_module": "@jupyter-widgets/controls",
       "_model_module_version": "1.5.0",
       "_model_name": "HBoxModel",
       "_view_count": null,
       "_view_module": "@jupyter-widgets/controls",
       "_view_module_version": "1.5.0",
       "_view_name": "HBoxView",
       "box_style": "",
       "children": [
        "IPY_MODEL_ebab8967464b48a596e9e854c332c5c7",
        "IPY_MODEL_fb2b70ca1d1b433e808c1b5d3ab38d47",
        "IPY_MODEL_6b7912cf1b0842909ba519775c11d19f"
       ],
       "layout": "IPY_MODEL_9aac12cf2cc0484b8cadb555ce588c1a"
      }
     },
     "fb2b70ca1d1b433e808c1b5d3ab38d47": {
      "model_module": "@jupyter-widgets/controls",
      "model_module_version": "1.5.0",
      "model_name": "FloatProgressModel",
      "state": {
       "_dom_classes": [],
       "_model_module": "@jupyter-widgets/controls",
       "_model_module_version": "1.5.0",
       "_model_name": "FloatProgressModel",
       "_view_count": null,
       "_view_module": "@jupyter-widgets/controls",
       "_view_module_version": "1.5.0",
       "_view_name": "ProgressView",
       "bar_style": "success",
       "description": "",
       "description_tooltip": null,
       "layout": "IPY_MODEL_2eeddf1d013b43309058230e68bdc6dd",
       "max": 1875,
       "min": 0,
       "orientation": "horizontal",
       "style": "IPY_MODEL_965f723d40b6481e8eb3b0c2bb130b88",
       "value": 1875
      }
     }
    },
    "version_major": 2,
    "version_minor": 0
   }
  }
 },
 "nbformat": 4,
 "nbformat_minor": 5
}
